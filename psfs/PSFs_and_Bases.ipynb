{
 "cells": [
  {
   "cell_type": "code",
   "execution_count": 1,
   "metadata": {
    "collapsed": false
   },
   "outputs": [
    {
     "name": "stderr",
     "output_type": "stream",
     "text": [
      "/Users/rubind/anaconda/envs/astroconda/lib/python2.7/site-packages/pysynphot/locations.py:119: UserWarning: Extinction files should be moved to $PYSYN_CDBS/extinction for compatibility with future versions of pysynphot.\n",
      "  warnings.warn('Extinction files should be moved to '\n",
      "/Users/rubind/anaconda/envs/astroconda/lib/python2.7/site-packages/pysynphot/locations.py:155: UserWarning: Extinction files not found in /Users/rubind/Downloads/synphot1-2/grid/extinction\n",
      "  warnings.warn('Extinction files not found in %s' % (extdir,))\n"
     ]
    },
    {
     "name": "stdout",
     "output_type": "stream",
     "text": [
      "WebbPSF log messages of level INFO and above will be shown.\n",
      "WebbPSF log outputs will be directed to the screen.\n",
      "[webbpsf] Setting up PSF calculation for WFI\n",
      "[  poppy] Monochromatic calculation requested.\n",
      "[webbpsf] Using the unmasked WFI pupil shape based on wavelengths requested\n",
      "[webbpsf] PSF calc using fov_arcsec = 5.000000, oversample = 44, number of wavelengths = 1\n",
      "[webbpsf] Creating optical system model:\n",
      "[  poppy] Initialized OpticalSystem: WFIRST+WFI\n",
      "[  poppy] WFIRST Entrance Pupil: Loaded amplitude transmission from /Users/rubind/anaconda/envs/astroconda/share/webbpsf-data/wfc_pupil_rev_mcr.fits\n",
      "[  poppy] WFIRST Entrance Pupil: Loaded OPD from /Users/rubind/anaconda/envs/astroconda/share/webbpsf-data/upscaled_HST_OPD.fits\n",
      "[  poppy] Added pupil plane: WFIRST Entrance Pupil\n",
      "[  poppy] Added coordinate inversion plane: OTE exit pupil\n",
      "[  poppy] Added pupil plane: Zernike WFE\n",
      "[  poppy] Added detector with pixelscale=0.11 and oversampling=44: WFI detector\n",
      "[  poppy] Calculating PSF with 1 wavelengths\n",
      "[  poppy]  Propagating wavelength = 5e-07 m\n",
      "[  poppy]   Calculation completed in 4.897 s\n",
      "[  poppy] PSF Calculation completed.\n",
      "[  poppy]  Adding extension with image downsampled to detector pixel scale.\n"
     ]
    }
   ],
   "source": [
    "import poppy\n",
    "poppy.conf.autosave_fftw_wisdom = False  # workaround for recent versions of POPPY and Python 3.5+\n",
    "import webbpsf\n",
    "import webbpsf.wfirst\n",
    "import numpy as np\n",
    "\n",
    "webbpsf.setup_logging()\n",
    "wfi = webbpsf.wfirst.WFI()\n",
    "\n",
    "# wavelength (to convert coefficients into meters OPD)\n",
    "wavelength = 0.5e-6\n",
    "\n",
    "# coefficients in waves of OPD\n",
    "coefficients_waves = np.array([ \n",
    "    0.00000000e+00,   0.00000000e+00,   0.00000000e+00, # Z1-3 (zero/omitted)\n",
    "   -0.0469, -0.0037, 0.0105 # Z4-6\n",
    "])\n",
    "# coefficients in meters, as needed by poppy.ZernikeWFE\n",
    "coefficients_meters = wavelength * coefficients_waves\n",
    "\n",
    "zernike_optic = poppy.ZernikeWFE(radius=wfi.PUPIL_RADIUS, coefficients=coefficients_meters)\n",
    "\n",
    "\n",
    "import types\n",
    "\n",
    "def _get_aberrations(self):\n",
    "   return zernike_optic  # defined in cell above\n",
    "\n",
    "_get_aberrations = types.MethodType(_get_aberrations, wfi)\n",
    "\n",
    "wfi._get_aberrations = _get_aberrations\n",
    "\n",
    "# Calculate the PSF with the new set of aberrations\n",
    "psf = wfi.calcPSF(monochromatic=0.5e-6, oversample = 44)"
   ]
  },
  {
   "cell_type": "code",
   "execution_count": 2,
   "metadata": {
    "collapsed": false
   },
   "outputs": [
    {
     "name": "stdout",
     "output_type": "stream",
     "text": [
      "Filename: (No file associated with this HDUList)\n",
      "No.    Name         Type      Cards   Dimensions   Format\n",
      "0    OVERSAMP    PrimaryHDU      42   (1980, 1980)   float64   \n",
      "1    DET_SAMP    ImageHDU        44   (45, 45)     float64   \n"
     ]
    }
   ],
   "source": [
    "psf.info()"
   ]
  },
  {
   "cell_type": "code",
   "execution_count": 3,
   "metadata": {
    "collapsed": false
   },
   "outputs": [
    {
     "name": "stderr",
     "output_type": "stream",
     "text": [
      "WARNING: VerifyWarning: Card is too long, comment will be truncated. [astropy.io.fits.card]\n",
      "[astropy] VerifyWarning: Card is too long, comment will be truncated.\n"
     ]
    }
   ],
   "source": [
    "psf.writeto(\"IFC_PSF_0.5_micron_2.5_mas.fits\", clobber=True)"
   ]
  },
  {
   "cell_type": "code",
   "execution_count": 1,
   "metadata": {
    "collapsed": false
   },
   "outputs": [
    {
     "name": "stderr",
     "output_type": "stream",
     "text": [
      "/Users/rubind/anaconda/envs/astroconda/lib/python2.7/site-packages/pyfits/file.py:372: UserWarning: Overwriting existing file 'IFC_PSF_0.5_micron_5_mas.fits'.\n",
      "  warnings.warn(\"Overwriting existing file %r.\" % self.name)\n"
     ]
    },
    {
     "data": {
      "text/plain": [
       "(990, 990)"
      ]
     },
     "execution_count": 1,
     "metadata": {},
     "output_type": "execute_result"
    }
   ],
   "source": [
    "import pyfits\n",
    "f = pyfits.open(\"IFC_PSF_0.5_micron_2.5_mas.fits\")\n",
    "newdat = f[0].data[0::2,0::2] + f[0].data[1::2,0::2] + f[0].data[0::2,1::2] + f[0].data[1::2,1::2]\n",
    "f[0].data = newdat\n",
    "f.writeto(\"IFC_PSF_0.5_micron_5_mas.fits\", clobber=True)\n",
    "f.close()\n",
    "newdat.shape"
   ]
  },
  {
   "cell_type": "code",
   "execution_count": null,
   "metadata": {
    "collapsed": false
   },
   "outputs": [
    {
     "name": "stdout",
     "output_type": "stream",
     "text": [
      "0\n",
      "100\n",
      "200\n",
      "300\n",
      "400\n",
      "500\n",
      "600\n",
      "700\n",
      "800\n",
      "900\n"
     ]
    },
    {
     "name": "stderr",
     "output_type": "stream",
     "text": [
      "/Users/rubind/anaconda/envs/astroconda/lib/python2.7/site-packages/pyfits/file.py:372: UserWarning: Overwriting existing file 'spline_rot=0.000_spl=0.050.fits'.\n",
      "  warnings.warn(\"Overwriting existing file %r.\" % self.name)\n",
      "/Users/rubind/anaconda/envs/astroconda/lib/python2.7/site-packages/pyfits/file.py:372: UserWarning: Overwriting existing file 'basis_5_mas_rot=0.000_spl=0.050.fits'.\n",
      "  warnings.warn(\"Overwriting existing file %r.\" % self.name)\n"
     ]
    },
    {
     "name": "stdout",
     "output_type": "stream",
     "text": [
      "0\n",
      "100\n",
      "200\n",
      "300\n",
      "400\n",
      "500\n",
      "600\n"
     ]
    }
   ],
   "source": [
    "from scipy.interpolate import RectBivariateSpline\n",
    "from scipy import fftpack as ft\n",
    "import pyfits\n",
    "import numpy as np\n",
    "\n",
    "\n",
    "dat = np.zeros([41, 41], dtype=np.float64)\n",
    "dat[20,20]=1\n",
    "vals = np.arange(41.) - 20\n",
    "\n",
    "ifn = RectBivariateSpline(vals, vals, dat, kx = 3, ky = 3, s = 0)\n",
    "spl_space = 0.05\n",
    "\n",
    "for rotang in [0, np.pi/8., np.pi/4., np.pi/2., np.pi*(2./3.), np.pi*(4./3.)]:\n",
    "    newvals = np.arange(990.)*(spl_space/0.05)/10.\n",
    "    newvals -= np.median(newvals)\n",
    "    xvals = newvals\n",
    "    yvals = newvals\n",
    "\n",
    "\n",
    "    basis = np.zeros([len(xvals), len(yvals)], dtype=np.float64)\n",
    "    for i in range(len(xvals)):\n",
    "        if i % 100 == 0:\n",
    "            print i\n",
    "        for j in range(len(yvals)):\n",
    "            xp = np.cos(rotang)*xvals[i] - np.sin(rotang)*yvals[j]\n",
    "            yp = np.sin(rotang)*xvals[i] + np.cos(rotang)*yvals[j]\n",
    "        \n",
    "            basis[i,j] = ifn(xp, yp)\n",
    "        \n",
    "    basis.shape\n",
    "    f = pyfits.open(\"IFC_PSF_0.5_micron_5_mas.fits\")\n",
    "    f[0].data = basis\n",
    "    f.writeto(\"spline_rot=%.3f_spl=%.3f.fits\" % (rotang, spl_space), clobber=True)\n",
    "    adjust = basis*0\n",
    "    for i in range(10):\n",
    "        adjust[len(adjust)/2 + i - 5, len(adjust)/2] = 1.\n",
    "    conv = np.real(ft.ifft2(ft.fft2(basis) * ft.fft2(newdat) * ft.fft2(adjust)))\n",
    "    f[0].data = conv\n",
    "    f.writeto(\"basis_5_mas_rot=%.3f_spl=%.3f.fits\" % (rotang, spl_space), clobber=True)\n",
    "\n",
    "    f.close()\n",
    "print \"Done!\""
   ]
  },
  {
   "cell_type": "code",
   "execution_count": null,
   "metadata": {
    "collapsed": true
   },
   "outputs": [],
   "source": [
    "import pyfits\n",
    "from scipy.interpolate import RectBivariateSpline\n",
    "from scipy import fftpack as ft\n",
    "import pyfits\n",
    "import numpy as np\n",
    "\n",
    "\n",
    "\n",
    "f = pyfits.open(\"IFC_PSF_0.5_micron_2.5_mas.fits\")\n",
    "newdat = f[0].data[0::2,0::2] + f[0].data[1::2,0::2] + f[0].data[0::2,1::2] + f[0].data[1::2,1::2]\n",
    "f[0].data = newdat\n",
    "f.writeto(\"IFC_PSF_0.5_micron_5_mas.fits\", clobber=True)\n",
    "f.close()\n",
    "newdat.shape\n",
    "\n",
    "\n",
    "\n",
    "\n",
    "\n",
    "dat = np.zeros([41, 41], dtype=np.float64)\n",
    "dat[20,20]=1\n",
    "vals = np.arange(41.) - 20\n",
    "\n",
    "ifn = RectBivariateSpline(vals, vals, dat, kx = 3, ky = 3, s = 0)\n",
    "spl_space = 0.05\n",
    "\n",
    "for rotang in [0, np.pi/8., np.pi/4., np.pi/2., np.pi*(2./3.), np.pi*(4./3.)]:\n",
    "    newvals = np.arange(990.)*(spl_space/0.05)/10.\n",
    "    newvals -= np.median(newvals)\n",
    "    xvals = newvals\n",
    "    yvals = newvals\n",
    "\n",
    "\n",
    "    basis = np.zeros([len(xvals), len(yvals)], dtype=np.float64)\n",
    "    for i in range(len(xvals)):\n",
    "        if i % 100 == 0:\n",
    "            print i\n",
    "        for j in range(len(yvals)):\n",
    "            xp = np.cos(rotang)*xvals[i] - np.sin(rotang)*yvals[j]\n",
    "            yp = np.sin(rotang)*xvals[i] + np.cos(rotang)*yvals[j]\n",
    "        \n",
    "            basis[i,j] = ifn(xp, yp)\n",
    "        \n",
    "    basis.shape\n",
    "    f = pyfits.open(\"IFC_PSF_0.5_micron_5_mas.fits\")\n",
    "    f[0].data = basis\n",
    "    f.writeto(\"spline_rot=%.3f_spl=%.3f.fits\" % (rotang, spl_space), clobber=True)\n",
    "    adjust = basis*0\n",
    "    for i in range(10):\n",
    "        adjust[len(adjust)/2 + i - 5, len(adjust)/2] = 1.\n",
    "    conv = np.real(ft.ifft2(ft.fft2(basis) * ft.fft2(newdat) * ft.fft2(adjust)))\n",
    "    f[0].data = conv\n",
    "    f.writeto(\"basis_5_mas_rot=%.3f_spl=%.3f.fits\" % (rotang, spl_space), clobber=True)\n",
    "\n",
    "    f.close()\n",
    "print \"Done!\""
   ]
  },
  {
   "cell_type": "code",
   "execution_count": null,
   "metadata": {
    "collapsed": true
   },
   "outputs": [],
   "source": []
  }
 ],
 "metadata": {
  "kernelspec": {
   "display_name": "Python 2",
   "language": "python",
   "name": "python2"
  },
  "language_info": {
   "codemirror_mode": {
    "name": "ipython",
    "version": 2
   },
   "file_extension": ".py",
   "mimetype": "text/x-python",
   "name": "python",
   "nbconvert_exporter": "python",
   "pygments_lexer": "ipython2",
   "version": "2.7.12"
  }
 },
 "nbformat": 4,
 "nbformat_minor": 0
}
